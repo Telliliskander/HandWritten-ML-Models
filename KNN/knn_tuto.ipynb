{
  "nbformat": 4,
  "nbformat_minor": 0,
  "metadata": {
    "colab": {
      "provenance": [],
      "gpuType": "T4"
    },
    "kernelspec": {
      "name": "python3",
      "display_name": "Python 3"
    },
    "language_info": {
      "name": "python"
    },
    "accelerator": "GPU"
  },
  "cells": [
    {
      "cell_type": "markdown",
      "source": [
        "## Task :"
      ],
      "metadata": {
        "id": "WBkRUPqGVG3M"
      }
    },
    {
      "cell_type": "markdown",
      "source": [
        "The goal of the project is to develop a model that can predict the age of an abalone based purely on the other physical measurements.\n",
        "The age of an abalone can be found by cutting its shell and counting the number of rings on the shell.\n",
        "This would allow researchers to estimate the abalone’s age without having to cut its shell and count the rings.\n",
        "\n",
        "We’ll be applying a kNN to find the closest prediction score possible.\n",
        "\n",
        "In the [Abalone Dataset](https://archive.ics.uci.edu/dataset/1/abalone), we have the age measurements of a large number of abalones along with a lot of other physical measurements."
      ],
      "metadata": {
        "id": "SeMwDF_g-MS3"
      }
    },
    {
      "cell_type": "markdown",
      "source": [
        "## Exploratory Data Analysis"
      ],
      "metadata": {
        "id": "VF-6GNo3UwmP"
      }
    },
    {
      "cell_type": "markdown",
      "source": [
        "### Importing the Abalone Dataset :\n",
        "\n",
        "In this code, we'll first import pandas, then use it to read the data. We specify the path to be a URL so the file will be fetched directly over the Internet."
      ],
      "metadata": {
        "id": "saWQYrGR_eOL"
      }
    },
    {
      "cell_type": "code",
      "execution_count": 1,
      "metadata": {
        "id": "zMcIvHX-CDAm"
      },
      "outputs": [],
      "source": [
        "import pandas as pd\n",
        "url = (\n",
        "    \"https://archive.ics.uci.edu/ml/machine-learning-databases\"\n",
        "    \"/abalone/abalone.data\"\n",
        ")\n",
        "abalone = pd.read_csv(url, header=None)"
      ]
    },
    {
      "cell_type": "markdown",
      "source": [
        "\n",
        "\n",
        "To make sure that we’ve imported the data correctly, you can do a quick check as follows:"
      ],
      "metadata": {
        "id": "WVbJ5QDTCiFZ"
      }
    },
    {
      "cell_type": "code",
      "source": [
        "abalone.head()"
      ],
      "metadata": {
        "id": "UUhhSwQ2ChxT",
        "colab": {
          "base_uri": "https://localhost:8080/",
          "height": 206
        },
        "outputId": "7ab66198-9481-4ea8-a271-601da005cab2"
      },
      "execution_count": 14,
      "outputs": [
        {
          "output_type": "execute_result",
          "data": {
            "text/plain": [
              "   Length  Diameter  Height  Whole weight  Shucked weight  Viscera weight  \\\n",
              "0   0.455     0.365   0.095        0.5140          0.2245          0.1010   \n",
              "1   0.350     0.265   0.090        0.2255          0.0995          0.0485   \n",
              "2   0.530     0.420   0.135        0.6770          0.2565          0.1415   \n",
              "3   0.440     0.365   0.125        0.5160          0.2155          0.1140   \n",
              "4   0.330     0.255   0.080        0.2050          0.0895          0.0395   \n",
              "\n",
              "   Shell weight  Rings  \n",
              "0         0.150     15  \n",
              "1         0.070      7  \n",
              "2         0.210      9  \n",
              "3         0.155     10  \n",
              "4         0.055      7  "
            ],
            "text/html": [
              "\n",
              "  <div id=\"df-6cfdae48-7932-4063-94bc-9997c23bbb08\" class=\"colab-df-container\">\n",
              "    <div>\n",
              "<style scoped>\n",
              "    .dataframe tbody tr th:only-of-type {\n",
              "        vertical-align: middle;\n",
              "    }\n",
              "\n",
              "    .dataframe tbody tr th {\n",
              "        vertical-align: top;\n",
              "    }\n",
              "\n",
              "    .dataframe thead th {\n",
              "        text-align: right;\n",
              "    }\n",
              "</style>\n",
              "<table border=\"1\" class=\"dataframe\">\n",
              "  <thead>\n",
              "    <tr style=\"text-align: right;\">\n",
              "      <th></th>\n",
              "      <th>Length</th>\n",
              "      <th>Diameter</th>\n",
              "      <th>Height</th>\n",
              "      <th>Whole weight</th>\n",
              "      <th>Shucked weight</th>\n",
              "      <th>Viscera weight</th>\n",
              "      <th>Shell weight</th>\n",
              "      <th>Rings</th>\n",
              "    </tr>\n",
              "  </thead>\n",
              "  <tbody>\n",
              "    <tr>\n",
              "      <th>0</th>\n",
              "      <td>0.455</td>\n",
              "      <td>0.365</td>\n",
              "      <td>0.095</td>\n",
              "      <td>0.5140</td>\n",
              "      <td>0.2245</td>\n",
              "      <td>0.1010</td>\n",
              "      <td>0.150</td>\n",
              "      <td>15</td>\n",
              "    </tr>\n",
              "    <tr>\n",
              "      <th>1</th>\n",
              "      <td>0.350</td>\n",
              "      <td>0.265</td>\n",
              "      <td>0.090</td>\n",
              "      <td>0.2255</td>\n",
              "      <td>0.0995</td>\n",
              "      <td>0.0485</td>\n",
              "      <td>0.070</td>\n",
              "      <td>7</td>\n",
              "    </tr>\n",
              "    <tr>\n",
              "      <th>2</th>\n",
              "      <td>0.530</td>\n",
              "      <td>0.420</td>\n",
              "      <td>0.135</td>\n",
              "      <td>0.6770</td>\n",
              "      <td>0.2565</td>\n",
              "      <td>0.1415</td>\n",
              "      <td>0.210</td>\n",
              "      <td>9</td>\n",
              "    </tr>\n",
              "    <tr>\n",
              "      <th>3</th>\n",
              "      <td>0.440</td>\n",
              "      <td>0.365</td>\n",
              "      <td>0.125</td>\n",
              "      <td>0.5160</td>\n",
              "      <td>0.2155</td>\n",
              "      <td>0.1140</td>\n",
              "      <td>0.155</td>\n",
              "      <td>10</td>\n",
              "    </tr>\n",
              "    <tr>\n",
              "      <th>4</th>\n",
              "      <td>0.330</td>\n",
              "      <td>0.255</td>\n",
              "      <td>0.080</td>\n",
              "      <td>0.2050</td>\n",
              "      <td>0.0895</td>\n",
              "      <td>0.0395</td>\n",
              "      <td>0.055</td>\n",
              "      <td>7</td>\n",
              "    </tr>\n",
              "  </tbody>\n",
              "</table>\n",
              "</div>\n",
              "    <div class=\"colab-df-buttons\">\n",
              "\n",
              "  <div class=\"colab-df-container\">\n",
              "    <button class=\"colab-df-convert\" onclick=\"convertToInteractive('df-6cfdae48-7932-4063-94bc-9997c23bbb08')\"\n",
              "            title=\"Convert this dataframe to an interactive table.\"\n",
              "            style=\"display:none;\">\n",
              "\n",
              "  <svg xmlns=\"http://www.w3.org/2000/svg\" height=\"24px\" viewBox=\"0 -960 960 960\">\n",
              "    <path d=\"M120-120v-720h720v720H120Zm60-500h600v-160H180v160Zm220 220h160v-160H400v160Zm0 220h160v-160H400v160ZM180-400h160v-160H180v160Zm440 0h160v-160H620v160ZM180-180h160v-160H180v160Zm440 0h160v-160H620v160Z\"/>\n",
              "  </svg>\n",
              "    </button>\n",
              "\n",
              "  <style>\n",
              "    .colab-df-container {\n",
              "      display:flex;\n",
              "      gap: 12px;\n",
              "    }\n",
              "\n",
              "    .colab-df-convert {\n",
              "      background-color: #E8F0FE;\n",
              "      border: none;\n",
              "      border-radius: 50%;\n",
              "      cursor: pointer;\n",
              "      display: none;\n",
              "      fill: #1967D2;\n",
              "      height: 32px;\n",
              "      padding: 0 0 0 0;\n",
              "      width: 32px;\n",
              "    }\n",
              "\n",
              "    .colab-df-convert:hover {\n",
              "      background-color: #E2EBFA;\n",
              "      box-shadow: 0px 1px 2px rgba(60, 64, 67, 0.3), 0px 1px 3px 1px rgba(60, 64, 67, 0.15);\n",
              "      fill: #174EA6;\n",
              "    }\n",
              "\n",
              "    .colab-df-buttons div {\n",
              "      margin-bottom: 4px;\n",
              "    }\n",
              "\n",
              "    [theme=dark] .colab-df-convert {\n",
              "      background-color: #3B4455;\n",
              "      fill: #D2E3FC;\n",
              "    }\n",
              "\n",
              "    [theme=dark] .colab-df-convert:hover {\n",
              "      background-color: #434B5C;\n",
              "      box-shadow: 0px 1px 3px 1px rgba(0, 0, 0, 0.15);\n",
              "      filter: drop-shadow(0px 1px 2px rgba(0, 0, 0, 0.3));\n",
              "      fill: #FFFFFF;\n",
              "    }\n",
              "  </style>\n",
              "\n",
              "    <script>\n",
              "      const buttonEl =\n",
              "        document.querySelector('#df-6cfdae48-7932-4063-94bc-9997c23bbb08 button.colab-df-convert');\n",
              "      buttonEl.style.display =\n",
              "        google.colab.kernel.accessAllowed ? 'block' : 'none';\n",
              "\n",
              "      async function convertToInteractive(key) {\n",
              "        const element = document.querySelector('#df-6cfdae48-7932-4063-94bc-9997c23bbb08');\n",
              "        const dataTable =\n",
              "          await google.colab.kernel.invokeFunction('convertToInteractive',\n",
              "                                                    [key], {});\n",
              "        if (!dataTable) return;\n",
              "\n",
              "        const docLinkHtml = 'Like what you see? Visit the ' +\n",
              "          '<a target=\"_blank\" href=https://colab.research.google.com/notebooks/data_table.ipynb>data table notebook</a>'\n",
              "          + ' to learn more about interactive tables.';\n",
              "        element.innerHTML = '';\n",
              "        dataTable['output_type'] = 'display_data';\n",
              "        await google.colab.output.renderOutput(dataTable, element);\n",
              "        const docLink = document.createElement('div');\n",
              "        docLink.innerHTML = docLinkHtml;\n",
              "        element.appendChild(docLink);\n",
              "      }\n",
              "    </script>\n",
              "  </div>\n",
              "\n",
              "\n",
              "<div id=\"df-73ea839e-5e4c-45f2-b2e4-0fc47365343c\">\n",
              "  <button class=\"colab-df-quickchart\" onclick=\"quickchart('df-73ea839e-5e4c-45f2-b2e4-0fc47365343c')\"\n",
              "            title=\"Suggest charts\"\n",
              "            style=\"display:none;\">\n",
              "\n",
              "<svg xmlns=\"http://www.w3.org/2000/svg\" height=\"24px\"viewBox=\"0 0 24 24\"\n",
              "     width=\"24px\">\n",
              "    <g>\n",
              "        <path d=\"M19 3H5c-1.1 0-2 .9-2 2v14c0 1.1.9 2 2 2h14c1.1 0 2-.9 2-2V5c0-1.1-.9-2-2-2zM9 17H7v-7h2v7zm4 0h-2V7h2v10zm4 0h-2v-4h2v4z\"/>\n",
              "    </g>\n",
              "</svg>\n",
              "  </button>\n",
              "\n",
              "<style>\n",
              "  .colab-df-quickchart {\n",
              "      --bg-color: #E8F0FE;\n",
              "      --fill-color: #1967D2;\n",
              "      --hover-bg-color: #E2EBFA;\n",
              "      --hover-fill-color: #174EA6;\n",
              "      --disabled-fill-color: #AAA;\n",
              "      --disabled-bg-color: #DDD;\n",
              "  }\n",
              "\n",
              "  [theme=dark] .colab-df-quickchart {\n",
              "      --bg-color: #3B4455;\n",
              "      --fill-color: #D2E3FC;\n",
              "      --hover-bg-color: #434B5C;\n",
              "      --hover-fill-color: #FFFFFF;\n",
              "      --disabled-bg-color: #3B4455;\n",
              "      --disabled-fill-color: #666;\n",
              "  }\n",
              "\n",
              "  .colab-df-quickchart {\n",
              "    background-color: var(--bg-color);\n",
              "    border: none;\n",
              "    border-radius: 50%;\n",
              "    cursor: pointer;\n",
              "    display: none;\n",
              "    fill: var(--fill-color);\n",
              "    height: 32px;\n",
              "    padding: 0;\n",
              "    width: 32px;\n",
              "  }\n",
              "\n",
              "  .colab-df-quickchart:hover {\n",
              "    background-color: var(--hover-bg-color);\n",
              "    box-shadow: 0 1px 2px rgba(60, 64, 67, 0.3), 0 1px 3px 1px rgba(60, 64, 67, 0.15);\n",
              "    fill: var(--button-hover-fill-color);\n",
              "  }\n",
              "\n",
              "  .colab-df-quickchart-complete:disabled,\n",
              "  .colab-df-quickchart-complete:disabled:hover {\n",
              "    background-color: var(--disabled-bg-color);\n",
              "    fill: var(--disabled-fill-color);\n",
              "    box-shadow: none;\n",
              "  }\n",
              "\n",
              "  .colab-df-spinner {\n",
              "    border: 2px solid var(--fill-color);\n",
              "    border-color: transparent;\n",
              "    border-bottom-color: var(--fill-color);\n",
              "    animation:\n",
              "      spin 1s steps(1) infinite;\n",
              "  }\n",
              "\n",
              "  @keyframes spin {\n",
              "    0% {\n",
              "      border-color: transparent;\n",
              "      border-bottom-color: var(--fill-color);\n",
              "      border-left-color: var(--fill-color);\n",
              "    }\n",
              "    20% {\n",
              "      border-color: transparent;\n",
              "      border-left-color: var(--fill-color);\n",
              "      border-top-color: var(--fill-color);\n",
              "    }\n",
              "    30% {\n",
              "      border-color: transparent;\n",
              "      border-left-color: var(--fill-color);\n",
              "      border-top-color: var(--fill-color);\n",
              "      border-right-color: var(--fill-color);\n",
              "    }\n",
              "    40% {\n",
              "      border-color: transparent;\n",
              "      border-right-color: var(--fill-color);\n",
              "      border-top-color: var(--fill-color);\n",
              "    }\n",
              "    60% {\n",
              "      border-color: transparent;\n",
              "      border-right-color: var(--fill-color);\n",
              "    }\n",
              "    80% {\n",
              "      border-color: transparent;\n",
              "      border-right-color: var(--fill-color);\n",
              "      border-bottom-color: var(--fill-color);\n",
              "    }\n",
              "    90% {\n",
              "      border-color: transparent;\n",
              "      border-bottom-color: var(--fill-color);\n",
              "    }\n",
              "  }\n",
              "</style>\n",
              "\n",
              "  <script>\n",
              "    async function quickchart(key) {\n",
              "      const quickchartButtonEl =\n",
              "        document.querySelector('#' + key + ' button');\n",
              "      quickchartButtonEl.disabled = true;  // To prevent multiple clicks.\n",
              "      quickchartButtonEl.classList.add('colab-df-spinner');\n",
              "      try {\n",
              "        const charts = await google.colab.kernel.invokeFunction(\n",
              "            'suggestCharts', [key], {});\n",
              "      } catch (error) {\n",
              "        console.error('Error during call to suggestCharts:', error);\n",
              "      }\n",
              "      quickchartButtonEl.classList.remove('colab-df-spinner');\n",
              "      quickchartButtonEl.classList.add('colab-df-quickchart-complete');\n",
              "    }\n",
              "    (() => {\n",
              "      let quickchartButtonEl =\n",
              "        document.querySelector('#df-73ea839e-5e4c-45f2-b2e4-0fc47365343c button');\n",
              "      quickchartButtonEl.style.display =\n",
              "        google.colab.kernel.accessAllowed ? 'block' : 'none';\n",
              "    })();\n",
              "  </script>\n",
              "</div>\n",
              "    </div>\n",
              "  </div>\n"
            ],
            "application/vnd.google.colaboratory.intrinsic+json": {
              "type": "dataframe",
              "variable_name": "abalone",
              "summary": "{\n  \"name\": \"abalone\",\n  \"rows\": 4177,\n  \"fields\": [\n    {\n      \"column\": \"Length\",\n      \"properties\": {\n        \"dtype\": \"number\",\n        \"std\": 0.12009291256479956,\n        \"min\": 0.075,\n        \"max\": 0.815,\n        \"num_unique_values\": 134,\n        \"samples\": [\n          0.815,\n          0.65,\n          0.29\n        ],\n        \"semantic_type\": \"\",\n        \"description\": \"\"\n      }\n    },\n    {\n      \"column\": \"Diameter\",\n      \"properties\": {\n        \"dtype\": \"number\",\n        \"std\": 0.09923986613365945,\n        \"min\": 0.055,\n        \"max\": 0.65,\n        \"num_unique_values\": 111,\n        \"samples\": [\n          0.09,\n          0.35,\n          0.3\n        ],\n        \"semantic_type\": \"\",\n        \"description\": \"\"\n      }\n    },\n    {\n      \"column\": \"Height\",\n      \"properties\": {\n        \"dtype\": \"number\",\n        \"std\": 0.041827056607257274,\n        \"min\": 0.0,\n        \"max\": 1.13,\n        \"num_unique_values\": 51,\n        \"samples\": [\n          0.235,\n          0.035,\n          0.015\n        ],\n        \"semantic_type\": \"\",\n        \"description\": \"\"\n      }\n    },\n    {\n      \"column\": \"Whole weight\",\n      \"properties\": {\n        \"dtype\": \"number\",\n        \"std\": 0.4903890182309977,\n        \"min\": 0.002,\n        \"max\": 2.8255,\n        \"num_unique_values\": 2429,\n        \"samples\": [\n          1.2825,\n          1.09,\n          0.131\n        ],\n        \"semantic_type\": \"\",\n        \"description\": \"\"\n      }\n    },\n    {\n      \"column\": \"Shucked weight\",\n      \"properties\": {\n        \"dtype\": \"number\",\n        \"std\": 0.22196294903322014,\n        \"min\": 0.001,\n        \"max\": 1.488,\n        \"num_unique_values\": 1515,\n        \"samples\": [\n          0.2105,\n          0.0645,\n          0.476\n        ],\n        \"semantic_type\": \"\",\n        \"description\": \"\"\n      }\n    },\n    {\n      \"column\": \"Viscera weight\",\n      \"properties\": {\n        \"dtype\": \"number\",\n        \"std\": 0.10961425025968446,\n        \"min\": 0.0005,\n        \"max\": 0.76,\n        \"num_unique_values\": 880,\n        \"samples\": [\n          0.0645,\n          0.0095,\n          0.1115\n        ],\n        \"semantic_type\": \"\",\n        \"description\": \"\"\n      }\n    },\n    {\n      \"column\": \"Shell weight\",\n      \"properties\": {\n        \"dtype\": \"number\",\n        \"std\": 0.1392026695223861,\n        \"min\": 0.0015,\n        \"max\": 1.005,\n        \"num_unique_values\": 926,\n        \"samples\": [\n          0.3745,\n          0.2825,\n          0.49\n        ],\n        \"semantic_type\": \"\",\n        \"description\": \"\"\n      }\n    },\n    {\n      \"column\": \"Rings\",\n      \"properties\": {\n        \"dtype\": \"number\",\n        \"std\": 3,\n        \"min\": 1,\n        \"max\": 29,\n        \"num_unique_values\": 28,\n        \"samples\": [\n          11,\n          27,\n          14\n        ],\n        \"semantic_type\": \"\",\n        \"description\": \"\"\n      }\n    }\n  ]\n}"
            }
          },
          "metadata": {},
          "execution_count": 14
        }
      ]
    },
    {
      "cell_type": "markdown",
      "source": [
        "This should show us the first five lines of the Abalone Dataset, imported in Python as a pandas DataFrame. We can see that the column names are still missing. We can find those names in the [abalone.names](https://archive.ics.uci.edu/ml/machine-learning-databases/abalone) file on the UCI machine learning repository."
      ],
      "metadata": {
        "id": "Nolpkq4tAUxH"
      }
    },
    {
      "cell_type": "markdown",
      "source": [
        "We can find those names in the abalone.names file on the UCI machine learning repository. We are going to add them to our DataFrame as follows:"
      ],
      "metadata": {
        "id": "P-gk-Q_hGMG6"
      }
    },
    {
      "cell_type": "code",
      "source": [
        "abalone.columns = [\n",
        "    \"Sex\",\n",
        "    \"Length\",\n",
        "    \"Diameter\",\n",
        "    \"Height\",\n",
        "    \"Whole weight\",\n",
        "    \"Shucked weight\",\n",
        "    \"Viscera weight\",\n",
        "    \"Shell weight\",\n",
        "    \"Rings\",\n",
        "]"
      ],
      "metadata": {
        "id": "reKMXBP3GLx-"
      },
      "execution_count": 2,
      "outputs": []
    },
    {
      "cell_type": "markdown",
      "source": [
        "Since sex is not a purely physical measure, We should remove it."
      ],
      "metadata": {
        "id": "rf3YQBGPGjJZ"
      }
    },
    {
      "cell_type": "code",
      "source": [
        "abalone = abalone.drop(\"Sex\", axis=1)"
      ],
      "metadata": {
        "id": "QDMmqt_WEloh"
      },
      "execution_count": 3,
      "outputs": []
    },
    {
      "cell_type": "markdown",
      "source": [
        "### Data Distribution      \n",
        "\n",
        "The target variable of this exercise is `Rings`, so we can start with that. A histogram will give us a quick and useful overview of the age ranges that we can expect:"
      ],
      "metadata": {
        "id": "OqCimoG_KQv4"
      }
    },
    {
      "cell_type": "code",
      "source": [
        "import matplotlib.pyplot as plt\n",
        "\n",
        "abalone[\"Rings\"].hist(bins=25, color='green')\n",
        "# Add labels to the x-axis and y-axis\n",
        "plt.xlabel(\"Number of Rings\")\n",
        "plt.ylabel(\"Frequency\")\n",
        "plt.title(\"Distribution of Abalone Rings\")\n",
        "\n",
        "plt.show()"
      ],
      "metadata": {
        "id": "ra6lIuenHb0t",
        "outputId": "13dd9d94-1a31-421e-b71d-6e7885b1d3f0",
        "colab": {
          "base_uri": "https://localhost:8080/",
          "height": 472
        }
      },
      "execution_count": 4,
      "outputs": [
        {
          "output_type": "display_data",
          "data": {
            "text/plain": [
              "<Figure size 640x480 with 1 Axes>"
            ],
            "image/png": "[encoded data removed]"
          },
          "metadata": {}
        }
      ]
    },
    {
      "cell_type": "markdown",
      "source": [
        "#### Interpretation\n",
        "\n",
        "- This code uses the pandas plotting functionality to generate a histogram with withe specified number of bins. When defining the number of bins, you generally try to have neither too many observations per bin nor too few. Too few bins can hide certain patterns, while too many bins can make the histogram lack smoothness.\n",
        "\n",
        "- The histogram shows that most abalones in the dataset have between five and fifteen rings, but that it’s possible to get up to twenty-five rings. The older abalones are underrepresented in this dataset. This seems intuitive, as age distributions are generally skewed like this due to natural processes."
      ],
      "metadata": {
        "id": "f5yI4z7EKPEK"
      }
    },
    {
      "cell_type": "markdown",
      "source": [
        "### Correlation\n",
        "\n",
        "A second relevant exploration is to find out which of the variables, if any, have a strong correlation with the age. A strong correlation between an independent variable and your goal variable would be a good sign, as this would confirm that physical measurements and age are related.\n",
        "\n",
        "You can observe the complete correlation matrix in correlation_matrix. The most important correlations are the ones with the target variable Rings. You can get those correlations like this:"
      ],
      "metadata": {
        "id": "6oqROHJWLjdz"
      }
    },
    {
      "cell_type": "code",
      "source": [
        "correlation_matrix = abalone.corr()\n",
        "correlation_matrix[\"Rings\"]"
      ],
      "metadata": {
        "id": "ZQA6-yZ0Hdcc",
        "colab": {
          "base_uri": "https://localhost:8080/"
        },
        "outputId": "4d33580e-f630-4a75-94f7-ffe82af90d41"
      },
      "execution_count": 5,
      "outputs": [
        {
          "output_type": "execute_result",
          "data": {
            "text/plain": [
              "Length            0.556720\n",
              "Diameter          0.574660\n",
              "Height            0.557467\n",
              "Whole weight      0.540390\n",
              "Shucked weight    0.420884\n",
              "Viscera weight    0.503819\n",
              "Shell weight      0.627574\n",
              "Rings             1.000000\n",
              "Name: Rings, dtype: float64"
            ]
          },
          "metadata": {},
          "execution_count": 5
        }
      ]
    },
    {
      "cell_type": "code",
      "source": [
        "import matplotlib.pyplot as plt\n",
        "\n",
        "# Assuming correlation_matrix[\"Rings\"] contains the correlations we've provided\n",
        "correlation_matrix[\"Rings\"].drop(\"Rings\").plot(kind=\"bar\", color='blue', figsize=(10, 6))\n",
        "plt.title(\"Correlation with Rings Feature\")\n",
        "plt.xlabel(\"Features\")\n",
        "plt.ylabel(\"Correlation\")\n",
        "\n",
        "# Rotate x-axis labels for better readability\n",
        "plt.xticks(rotation=45)\n",
        "\n",
        "# Add grid lines\n",
        "plt.grid(axis='y', linestyle='--', alpha=0.7)\n",
        "\n",
        "plt.show()\n"
      ],
      "metadata": {
        "colab": {
          "base_uri": "https://localhost:8080/",
          "height": 638
        },
        "id": "T-1nAqsqGSa3",
        "outputId": "2b9f4d5b-2d8a-497c-b833-593cde3ccadf"
      },
      "execution_count": 6,
      "outputs": [
        {
          "output_type": "display_data",
          "data": {
            "text/plain": [
              "<Figure size 1000x600 with 1 Axes>"
            ],
            "image/png": "[encoded data removed]"
          },
          "metadata": {}
        }
      ]
    },
    {
      "cell_type": "markdown",
      "source": [
        "#### Interpretation :\n",
        "We can conclude that there’s at least some correlation between physical measurements of adult abalones and their age, yet it’s also not very high. Very high correlations mean that we can expect a straightforward modeling process. In this case, we’ll have to try and see what results we can obtain using the kNN algorithm."
      ],
      "metadata": {
        "id": "mkMqoacnQMQY"
      }
    },
    {
      "cell_type": "markdown",
      "source": [
        "## Model building"
      ],
      "metadata": {
        "id": "sLj_Ec_AVAaq"
      }
    },
    {
      "cell_type": "markdown",
      "source": [
        "### Model overview\n",
        "\n",
        "In this part of the tutorial, you’re going to discover how the kNN algorithm works deep down. The algorithm has two main mathematical components that you’ll need to understand.\n",
        "\n",
        "Each machine learning model has its specific formula that needs to be estimated. But what makes k-Nearest Neighbors algorithm different from other ML models  is that this formula is computed not at the moment of fitting but rather at the moment of prediction.\n",
        "\n",
        "When a new data point arrives, the kNN algorithm, as the name indicates, will start by finding the nearest neighbors of this new data point. Then it takes the values of those neighbors and uses them as a prediction for the new data point."
      ],
      "metadata": {
        "id": "s3t6qg_hagCr"
      }
    },
    {
      "cell_type": "markdown",
      "source": [
        "### Finding the Nearest Neighbors\n",
        "\n",
        "To find the closest data points to the one you need to predict, we use Euclidean distance, a mathematical measure of distance. Euclidean distance is based on the difference between vectors, which represent points in space. For example, if you have two points at (2,2) and (4,4), you can find the distance between them by subtracting their coordinates to get a difference vector. The length of this vector, called the norm, is the distance between the points. The Euclidean formula calculates distance by summing the squared differences of each dimension and then taking the square root of the total. This applies to data points treated as vectors. By computing the norm of the difference vectors between data points, you can find their distances."
      ],
      "metadata": {
        "id": "n2sPk8Hsct8H"
      }
    },
    {
      "cell_type": "markdown",
      "source": [
        "### Splitting the data :\n",
        "\n",
        "Before diving into that, we need to perform a quick step, which is seperating our target variable `Rings`. So let's generates two objects that now contain our data points (vectors) X and y contain our target variable `Rings`.\n",
        "X is the independent variables and y is the dependent variable of your model."
      ],
      "metadata": {
        "id": "6LO7OtfTgD2t"
      }
    },
    {
      "cell_type": "code",
      "source": [
        "X = abalone.drop(\"Rings\", axis=1)\n",
        "X = X.values\n",
        "y = abalone[\"Rings\"]\n",
        "y = y.values"
      ],
      "metadata": {
        "id": "-3xWOQqqfgUh"
      },
      "execution_count": 7,
      "outputs": []
    },
    {
      "cell_type": "markdown",
      "source": [
        "### Computing the Euclidian Distance\n",
        "\n",
        "The next step is to compute the distances between a new data point that we want to predict and each of the data points in the Abalone Dataset using the following code:"
      ],
      "metadata": {
        "id": "Dt4OHDjQgw-v"
      }
    },
    {
      "cell_type": "code",
      "source": [
        "import numpy as np\n",
        "new_data_point = np.array([\n",
        "     0.569552,\n",
        "     0.446407,\n",
        "     0.154437,\n",
        "     1.016849,\n",
        "     0.439051,\n",
        "     0.222526,\n",
        "     0.291208,\n",
        " ])"
      ],
      "metadata": {
        "id": "c1la_KyRkhhz"
      },
      "execution_count": 8,
      "outputs": []
    },
    {
      "cell_type": "code",
      "source": [
        "distances = np.linalg.norm(X - new_data_point, axis=1)"
      ],
      "metadata": {
        "id": "exRvSLqFje9Z"
      },
      "execution_count": 9,
      "outputs": []
    },
    {
      "cell_type": "markdown",
      "source": [
        "Now, we have a vector of distances, and we need to find out which are the three closest neighbors. To do this, we need to find the IDs of the minimum distances. We can use a method called.argsort() to sort the array from lowest to highest, and we can take the first k elements to obtain the indices of the k nearest neighbors:"
      ],
      "metadata": {
        "id": "_xWElHgWfV6B"
      }
    },
    {
      "cell_type": "code",
      "source": [
        "k = 3\n",
        "nearest_neighbor_ids = distances.argsort()[:k]\n",
        "nearest_neighbor_ids\n"
      ],
      "metadata": {
        "colab": {
          "base_uri": "https://localhost:8080/"
        },
        "id": "wfOMt-Z0mEiu",
        "outputId": "0e9698ce-0754-438c-c238-dee7478a3365"
      },
      "execution_count": 10,
      "outputs": [
        {
          "output_type": "execute_result",
          "data": {
            "text/plain": [
              "array([4045, 1902, 1644])"
            ]
          },
          "metadata": {},
          "execution_count": 10
        }
      ]
    },
    {
      "cell_type": "markdown",
      "source": [
        "This tells us which three neighbors are closest to our new_data_point. In the next paragraph, we’ll see how to convert those neighbors in an estimation."
      ],
      "metadata": {
        "id": "mpIWQ_dKljYZ"
      }
    },
    {
      "cell_type": "markdown",
      "source": [
        "### Prediction"
      ],
      "metadata": {
        "id": "NUHMPXJ2vp2d"
      }
    },
    {
      "cell_type": "markdown",
      "source": [
        "Having identified the indices of the three nearest neighbors of our abalone of unknown age, we now need to combine those neighbors into a prediction for our new data point.\n",
        "\n",
        "As a first step, we need to find the ground truths for those three neighbors:"
      ],
      "metadata": {
        "id": "3Cx1csf-vlsf"
      }
    },
    {
      "cell_type": "code",
      "source": [
        "nearest_neighbor_rings = y[nearest_neighbor_ids]\n",
        "nearest_neighbor_rings"
      ],
      "metadata": {
        "id": "qceMv8DBoEgs",
        "colab": {
          "base_uri": "https://localhost:8080/"
        },
        "outputId": "5a016f31-81f3-42da-c33d-75aff603d552"
      },
      "execution_count": 11,
      "outputs": [
        {
          "output_type": "execute_result",
          "data": {
            "text/plain": [
              "array([ 9, 11, 10])"
            ]
          },
          "metadata": {},
          "execution_count": 11
        }
      ]
    },
    {
      "cell_type": "markdown",
      "source": [
        "Now that you have the values for those three neighbors, we’ll combine them into a prediction for your new data point. Combining the neighbors into a prediction works differently for regression and classification."
      ],
      "metadata": {
        "id": "whynwvunvotf"
      }
    },
    {
      "cell_type": "markdown",
      "source": [
        "#### Average for Regression"
      ],
      "metadata": {
        "id": "V6jPPuttvcCp"
      }
    },
    {
      "cell_type": "markdown",
      "source": [
        "In regression problems, the target variable is numeric. We combine multiple neighbors into one prediction by taking the average of their values of the target variable. We can do this as follows:"
      ],
      "metadata": {
        "id": "n8QnG_f8vUUb"
      }
    },
    {
      "cell_type": "code",
      "source": [
        "prediction = nearest_neighbor_rings.mean()"
      ],
      "metadata": {
        "id": "PUZffbsBor0S"
      },
      "execution_count": 12,
      "outputs": []
    },
    {
      "cell_type": "markdown",
      "source": [
        "We’ll get a value of 10 for prediction. This means that the 3-Nearest Neighbor prediction for our new data point is 10. We could do the same for any number of new abalones that We want."
      ],
      "metadata": {
        "id": "3Geldzt7vYxE"
      }
    },
    {
      "cell_type": "markdown",
      "source": [
        "#### Mode for Classification"
      ],
      "metadata": {
        "id": "cEP02KKYvMiA"
      }
    },
    {
      "cell_type": "markdown",
      "source": [
        "In classification problems, the target variable is categorical, making it impossible to take averages like in numerical variables. For instance, we can't find the average of predicted car brands. Instead, classification uses the mode, which is the most frequent value. This means counting the classes of neighboring points and selecting the most common class as the prediction. If there are multiple modes, various solutions are possible, such as randomly selecting a winner or considering distances of neighbors. The SciPy `mode()` function can compute the mode, although in the provided example, it's not used for classification but for a toy example.:"
      ],
      "metadata": {
        "id": "-WE7RXZqu_R0"
      }
    },
    {
      "cell_type": "code",
      "source": [
        "import scipy\n",
        "class_neighbors = np.array([1,2,2])\n",
        "scipy.stats.mode(class_neighbors)\n",
        "# mode, count = np.unique(class_neighbors, return_counts=True)\n",
        "# mode = mode[count.argmax()]\n",
        "\n",
        "# print(\"Mode:\", mode)\n"
      ],
      "metadata": {
        "id": "iknMMAi-vCnp",
        "colab": {
          "base_uri": "https://localhost:8080/"
        },
        "outputId": "2af86f67-cd89-438d-82e5-71bcbb0c69da"
      },
      "execution_count": 13,
      "outputs": [
        {
          "output_type": "execute_result",
          "data": {
            "text/plain": [
              "ModeResult(mode=2, count=2)"
            ]
          },
          "metadata": {},
          "execution_count": 13
        }
      ]
    },
    {
      "cell_type": "markdown",
      "source": [
        "## Testing our model performance"
      ],
      "metadata": {
        "id": "Op-ULU0v-bFz"
      }
    },
    {
      "cell_type": "markdown",
      "source": [],
      "metadata": {
        "id": "AZDDUYVj_KgL"
      }
    },
    {
      "cell_type": "code",
      "source": [
        "np.random.randint(0, X.shape[0], size=10)"
      ],
      "metadata": {
        "colab": {
          "base_uri": "https://localhost:8080/"
        },
        "id": "sPgKz654BxQZ",
        "outputId": "c0bdb831-704a-414a-fc99-9c6bb3e93368"
      },
      "execution_count": 29,
      "outputs": [
        {
          "output_type": "execute_result",
          "data": {
            "text/plain": [
              "array([2092, 2536, 1089, 3703, 3314,  828, 3998, 3790, 2202,  209])"
            ]
          },
          "metadata": {},
          "execution_count": 29
        }
      ]
    },
    {
      "cell_type": "code",
      "source": [
        "np.random.randint(0, X.shape[0], size=1)"
      ],
      "metadata": {
        "colab": {
          "base_uri": "https://localhost:8080/"
        },
        "id": "CsnZx4NPCAAq",
        "outputId": "6df5b888-a05f-4788-8fde-3b1bc363988c"
      },
      "execution_count": 17,
      "outputs": [
        {
          "output_type": "execute_result",
          "data": {
            "text/plain": [
              "array([3520])"
            ]
          },
          "metadata": {},
          "execution_count": 17
        }
      ]
    },
    {
      "cell_type": "code",
      "source": [
        "X"
      ],
      "metadata": {
        "colab": {
          "base_uri": "https://localhost:8080/"
        },
        "id": "zS8-jbwYERhC",
        "outputId": "56f31df2-d8ef-4ac6-b439-3bf8ad3fce71"
      },
      "execution_count": 18,
      "outputs": [
        {
          "output_type": "execute_result",
          "data": {
            "text/plain": [
              "array([[0.455 , 0.365 , 0.095 , ..., 0.2245, 0.101 , 0.15  ],\n",
              "       [0.35  , 0.265 , 0.09  , ..., 0.0995, 0.0485, 0.07  ],\n",
              "       [0.53  , 0.42  , 0.135 , ..., 0.2565, 0.1415, 0.21  ],\n",
              "       ...,\n",
              "       [0.6   , 0.475 , 0.205 , ..., 0.5255, 0.2875, 0.308 ],\n",
              "       [0.625 , 0.485 , 0.15  , ..., 0.531 , 0.261 , 0.296 ],\n",
              "       [0.71  , 0.555 , 0.195 , ..., 0.9455, 0.3765, 0.495 ]])"
            ]
          },
          "metadata": {},
          "execution_count": 18
        }
      ]
    },
    {
      "cell_type": "code",
      "source": [
        "X.shape"
      ],
      "metadata": {
        "colab": {
          "base_uri": "https://localhost:8080/"
        },
        "id": "AvkjA5iXEWuT",
        "outputId": "34bf5efa-ed34-487e-8f9b-288b94683ddf"
      },
      "execution_count": 19,
      "outputs": [
        {
          "output_type": "execute_result",
          "data": {
            "text/plain": [
              "(4177, 7)"
            ]
          },
          "metadata": {},
          "execution_count": 19
        }
      ]
    },
    {
      "cell_type": "code",
      "source": [
        "np.delete(X, 1, axis=0)"
      ],
      "metadata": {
        "colab": {
          "base_uri": "https://localhost:8080/"
        },
        "id": "lOpYbn6mEYgS",
        "outputId": "697b13a7-096d-45d7-9572-41c0f6dc64cd"
      },
      "execution_count": 21,
      "outputs": [
        {
          "output_type": "execute_result",
          "data": {
            "text/plain": [
              "array([[0.455 , 0.365 , 0.095 , ..., 0.2245, 0.101 , 0.15  ],\n",
              "       [0.53  , 0.42  , 0.135 , ..., 0.2565, 0.1415, 0.21  ],\n",
              "       [0.44  , 0.365 , 0.125 , ..., 0.2155, 0.114 , 0.155 ],\n",
              "       ...,\n",
              "       [0.6   , 0.475 , 0.205 , ..., 0.5255, 0.2875, 0.308 ],\n",
              "       [0.625 , 0.485 , 0.15  , ..., 0.531 , 0.261 , 0.296 ],\n",
              "       [0.71  , 0.555 , 0.195 , ..., 0.9455, 0.3765, 0.495 ]])"
            ]
          },
          "metadata": {},
          "execution_count": 21
        }
      ]
    },
    {
      "cell_type": "code",
      "source": [
        "X[1]"
      ],
      "metadata": {
        "colab": {
          "base_uri": "https://localhost:8080/"
        },
        "id": "OPBY_m1jEg1u",
        "outputId": "ce99563c-d227-40ef-dcc2-9359a0f04bb6"
      },
      "execution_count": 24,
      "outputs": [
        {
          "output_type": "execute_result",
          "data": {
            "text/plain": [
              "array([0.35  , 0.265 , 0.09  , 0.2255, 0.0995, 0.0485, 0.07  ])"
            ]
          },
          "metadata": {},
          "execution_count": 24
        }
      ]
    },
    {
      "cell_type": "code",
      "source": [
        "y_pred = []\n",
        "Y = []\n",
        "\n",
        "for idx in np.random.randint(0, X.shape[0], size=100) :\n",
        "\n",
        "\n",
        "    # Select the array 'a' from X along with its associated element 'b' from y by index\n",
        "    test_data_point_X = X[idx]\n",
        "    Y.append(y[idx])\n",
        "\n",
        "    # Remove the selected array and its associated element from X and y\n",
        "    test_X = np.delete(X, idx, axis=0)\n",
        "    test_y = np.delete(y, idx)\n",
        "\n",
        "    test_distances = np.linalg.norm(test_X - test_data_point_X, axis=1)\n",
        "    test_nearest_neighbors_ids = test_distances.argsort()[:10]\n",
        "    test_nearest_neighbors = test_y[test_nearest_neighbors_ids]\n",
        "\n",
        "    y_pred.append(test_nearest_neighbors.mean())\n",
        "\n",
        "\n",
        "print(Y)\n",
        "print(y_pred)\n",
        "\n"
      ],
      "metadata": {
        "colab": {
          "base_uri": "https://localhost:8080/"
        },
        "id": "2gPo2_QBA_jl",
        "outputId": "d2d78dd2-8e08-4501-fcdb-3e35da4061c6"
      },
      "execution_count": 66,
      "outputs": [
        {
          "output_type": "stream",
          "name": "stdout",
          "text": [
            "[10, 11, 10, 14, 7, 3, 12, 7, 10, 8, 12, 9, 9, 8, 10, 7, 7, 11, 7, 13, 10, 20, 17, 9, 13, 9, 8, 10, 14, 12, 12, 9, 10, 9, 9, 18, 6, 8, 9, 7, 17, 9, 21, 9, 9, 12, 9, 8, 10, 15, 8, 8, 9, 10, 16, 24, 8, 8, 6, 11, 9, 9, 17, 10, 7, 21, 7, 10, 11, 8, 8, 11, 10, 14, 16, 10, 9, 22, 10, 10, 10, 9, 10, 20, 11, 6, 9, 10, 9, 10, 9, 13, 13, 11, 14, 8, 9, 9, 13, 13]\n",
            "[9.9, 10.6, 11.4, 8.8, 7.6, 4.6, 13.7, 7.0, 10.2, 7.7, 8.3, 8.1, 12.0, 9.4, 14.5, 7.8, 7.5, 11.8, 9.2, 9.9, 11.5, 16.3, 14.8, 10.5, 13.1, 9.4, 8.4, 9.0, 9.5, 10.3, 14.5, 10.0, 10.9, 10.9, 8.9, 13.3, 7.7, 7.8, 9.5, 7.2, 11.9, 10.1, 10.7, 9.2, 8.2, 9.8, 10.2, 9.7, 11.4, 12.8, 7.5, 7.4, 8.1, 10.5, 11.0, 14.4, 8.0, 9.9, 6.5, 10.2, 10.6, 10.0, 10.9, 9.0, 8.1, 16.7, 9.7, 10.2, 9.9, 10.9, 9.6, 12.7, 9.7, 12.2, 12.3, 11.7, 10.1, 13.7, 8.7, 11.7, 11.4, 10.6, 9.1, 13.4, 9.8, 6.8, 8.0, 7.6, 8.7, 9.8, 10.7, 12.2, 15.7, 15.9, 13.0, 8.0, 8.7, 9.6, 10.4, 8.2]\n"
          ]
        }
      ]
    },
    {
      "cell_type": "code",
      "source": [
        "import matplotlib.pyplot as plt\n",
        "\n",
        "# Plotting the predicted values against the real values\n",
        "plt.figure(figsize=(8, 6))\n",
        "plt.scatter(Y, y_pred, color='blue', label='Predicted vs. Real')\n",
        "plt.plot([min(Y), max(Y)], [min(Y), max(Y)], color='red', linestyle='--', label='Ideal Line')\n",
        "\n",
        "# Adding labels and title\n",
        "plt.xlabel('Real Values')\n",
        "plt.ylabel('Predicted Values')\n",
        "plt.title('Scatter Plot of Predicted vs. Real Values')\n",
        "plt.legend()\n",
        "\n",
        "# Display the plot\n",
        "plt.show()\n"
      ],
      "metadata": {
        "colab": {
          "base_uri": "https://localhost:8080/",
          "height": 564
        },
        "id": "yVGqGVnZ-a0F",
        "outputId": "21719852-052d-48c3-cbb4-8309a92694c3"
      },
      "execution_count": 67,
      "outputs": [
        {
          "output_type": "display_data",
          "data": {
            "text/plain": [
              "<Figure size 800x600 with 1 Axes>"
            ],
            "image/png": "[encoded data removed]"
          },
          "metadata": {}
        }
      ]
    },
    {
      "cell_type": "markdown",
      "source": [
        "## Final model\n",
        "\n",
        "Lets, combine all the code built in one class to get a well structured code\n"
      ],
      "metadata": {
        "id": "D7BzZc4UzTya"
      }
    },
    {
      "cell_type": "code",
      "source": [
        "class KNN :\n",
        "\n",
        "  def __init__(self, k=0):\n",
        "    self.k = k\n",
        "    self.nearest_neighbors = []\n",
        "\n",
        "\n",
        "  def predict_regression(self, X, y, new_data_point):\n",
        "\n",
        "    distances = np.linalg.norm(X - new_data_point, axis=1)\n",
        "    nearest_neighbors_ids = distances.argsort()[:self.k]\n",
        "    self.nearest_neighbors = list(y[nearest_neighbors_ids])\n",
        "\n",
        "    return self.nearest_neighbors.mean()\n",
        "\n",
        "\n",
        "  def predict_regression(self, X, y, new_data_point):\n",
        "\n",
        "    distances = np.linalg.norm(X - new_data_point, axis=1)\n",
        "    nearest_neighbors_ids = distances.argsort()[:self.k]\n",
        "    self.nearest_neighbors = list(y[nearest_neighbors_ids])\n",
        "\n",
        "    return scipy.stats.mode(self.nearest_neighbors)\n"
      ],
      "metadata": {
        "id": "b_jXyI__yeGp"
      },
      "execution_count": null,
      "outputs": []
    }
  ]
}