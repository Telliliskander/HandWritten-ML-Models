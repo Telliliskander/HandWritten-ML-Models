{
 "cells": [
  {
   "cell_type": "code",
   "execution_count": 89,
   "metadata": {},
   "outputs": [],
   "source": [
    "import copy, math\n",
    "import numpy as np\n",
    "import matplotlib.pyplot as plt"
   ]
  },
  {
   "cell_type": "code",
   "execution_count": 90,
   "metadata": {},
   "outputs": [],
   "source": [
    "from sklearn.linear_model import SGDRegressor\n",
    "from sklearn.preprocessing import StandardScaler"
   ]
  },
  {
   "cell_type": "markdown",
   "metadata": {},
   "source": [
    "# My model"
   ]
  },
  {
   "cell_type": "code",
   "execution_count": 91,
   "metadata": {},
   "outputs": [],
   "source": [
    "class MyMultiVarLinReg :\n",
    "    \n",
    "    def __init__(self, J_history =[]):\n",
    "        self.w : np.ndarray\n",
    "        self.b : np.ndarray\n",
    "        self.J_history = J_history \n",
    "\n",
    "        \n",
    "    def predict(self, x, w, b): \n",
    "        \"\"\"\n",
    "        single predict using linear regression\n",
    "        \n",
    "        Args:\n",
    "          x (ndarray): Shape (n,) example with multiple features\n",
    "          w (ndarray): Shape (n,) model parameters    \n",
    "          b (scalar):  model parameter     \n",
    "          \n",
    "        Returns:\n",
    "          p (scalar):  prediction\n",
    "        \"\"\"\n",
    "\n",
    "        # Using Vectorization :\n",
    "        p = np.dot(x, w) + b                  \n",
    "        return p\n",
    "\n",
    "\n",
    "\n",
    "    def compute_cost(self, X, y, w, b): \n",
    "        \"\"\"\n",
    "        compute cost\n",
    "        Args:\n",
    "          X (ndarray (m,n)): Data, m examples with n features\n",
    "          y (ndarray (m,)) : target values\n",
    "          w (ndarray (n,)) : model parameters  \n",
    "          b (scalar)       : model parameter\n",
    "          \n",
    "        Returns:\n",
    "          cost (scalar): cost\n",
    "        \"\"\"\n",
    "\n",
    "        m = X.shape[0]\n",
    "        y_pred = self.predict(X, w, b)\n",
    "        cost = np.sum(((y_pred  - y )**2)/(m*2))\n",
    "        return cost\n",
    "\n",
    "\n",
    "\n",
    "    def compute_gradient(self, X, y, w, b): \n",
    "        \"\"\"\n",
    "        Computes the gradient for linear regression \n",
    "        Args:\n",
    "          X (ndarray (m,n)): Data, m examples with n features\n",
    "          y (ndarray (m,)) : target values\n",
    "          w (ndarray (n,)) : model parameters  \n",
    "          b (scalar)       : model parameter\n",
    "          \n",
    "        Returns:\n",
    "          dj_dw (ndarray (n,)): The gradient of the cost w.r.t. the parameters w. \n",
    "          dj_db (scalar):       The gradient of the cost w.r.t. the parameter b. \n",
    "        \"\"\"\n",
    "        m, n = X.shape           #(number of examples, number of features)\n",
    "\n",
    "        # Calculate errors for all examples at once\n",
    "        errors = (np.dot(X, w) + b) - y   \n",
    "\n",
    "        # Calculate gradients for weights\n",
    "        dj_dw = np.dot(errors, X) / m   \n",
    "\n",
    "        # Calculate gradient for bias\n",
    "        dj_db = np.sum(errors) / m                              \n",
    "  \n",
    "        return dj_db, dj_dw                           \n",
    "            \n",
    "\n",
    "\n",
    "    def gradient_descent(self, X, y, w_in, b_in, alpha, num_iters): \n",
    "        \"\"\"\n",
    "        Performs batch gradient descent to learn w and b. Updates w and b by taking \n",
    "        num_iters gradient steps with learning rate alpha\n",
    "        \n",
    "        Args:\n",
    "          X (ndarray (m,n))   : Data, m examples with n features\n",
    "          y (ndarray (m,))    : target values\n",
    "          w_in (ndarray (n,)) : initial model parameters  \n",
    "          b_in (scalar)       : initial model parameter\n",
    "          cost_function       : function to compute cost\n",
    "          gradient_function   : function to compute the gradient\n",
    "          alpha (float)       : Learning rate\n",
    "          num_iters (int)     : number of iterations to run gradient descent\n",
    "          \n",
    "        Returns:\n",
    "          w (ndarray (n,)) : Updated values of parameters \n",
    "          b (scalar)       : Updated value of parameter \n",
    "          \"\"\"\n",
    "        \n",
    "        # An array to store cost J and w's at each iteration primarily for graphing later\n",
    "        J_history = []\n",
    "        w = copy.deepcopy(w_in)  #avoid modifying global w within function\n",
    "        b = b_in\n",
    "        \n",
    "        for i in range(num_iters):\n",
    "\n",
    "            # Calculate the gradient and update the parameters\n",
    "            dj_db,dj_dw = self.compute_gradient(X, y, w, b)   ##None\n",
    "\n",
    "            # Update Parameters using w, b, alpha and gradient\n",
    "            w = w - alpha * dj_dw               ##None\n",
    "            b = b - alpha * dj_db               ##None\n",
    "          \n",
    "            # Save cost J at each iteration\n",
    "            if i<100000:      # prevent resource exhaustion \n",
    "                J_history.append( self.compute_cost(X, y, w, b))\n",
    "\n",
    "            # Print cost every at intervals 10 times or as many iterations if < 10\n",
    "            if i% math.ceil(num_iters / 10) == 0:\n",
    "                print(f\"Iteration {i:4d}: Cost {J_history[-1]:8.2f}   \")\n",
    "            \n",
    "        return w, b, J_history #return final w,b and J history for graphing\n",
    "    \n",
    "\n",
    "\n",
    "\n",
    "    def fit(self,X, y, alpha, num_iters):\n",
    "        \n",
    "        self.w = np.ones((X.shape[1]))*0.5\n",
    "        self.b = 0\n",
    "        self.w, self.b, self.J_history = self.gradient_descent(X, y, self.w, self.b, alpha, num_iters)\n",
    "        \n",
    "\n",
    "    def prediction(self, X):\n",
    "        return self.predict(X, self.w, self.b)"
   ]
  },
  {
   "cell_type": "markdown",
   "metadata": {},
   "source": [
    "# sgdr"
   ]
  },
  {
   "cell_type": "markdown",
   "metadata": {},
   "source": [
    "Load the data set"
   ]
  },
  {
   "cell_type": "code",
   "execution_count": 92,
   "metadata": {},
   "outputs": [],
   "source": [
    "data = np.loadtxt(\"houses_data.txt\", delimiter=',')\n",
    "X_train = data[:,:2]\n",
    "y_train = data[:,2]"
   ]
  },
  {
   "cell_type": "markdown",
   "metadata": {},
   "source": [
    "Scale/normalize the training data"
   ]
  },
  {
   "cell_type": "code",
   "execution_count": 93,
   "metadata": {},
   "outputs": [
    {
     "name": "stdout",
     "output_type": "stream",
     "text": [
      "Peak to Peak range by column in Raw        X:[2406.    4.]\n",
      "Peak to Peak range by column in Normalized X:[5.83735704 6.12923357]\n"
     ]
    }
   ],
   "source": [
    "scaler = StandardScaler()\n",
    "X_norm = scaler.fit_transform(X_train)\n",
    "print(f\"Peak to Peak range by column in Raw        X:{np.ptp(X_train,axis=0)}\")   \n",
    "print(f\"Peak to Peak range by column in Normalized X:{np.ptp(X_norm,axis=0)}\")"
   ]
  },
  {
   "cell_type": "markdown",
   "metadata": {},
   "source": [
    "Create and fit the regression model"
   ]
  },
  {
   "cell_type": "code",
   "execution_count": 94,
   "metadata": {},
   "outputs": [
    {
     "name": "stdout",
     "output_type": "stream",
     "text": [
      "Iteration    0: Cost     1.21   \n",
      "Iteration  100: Cost     0.46   \n",
      "Iteration  200: Cost     0.21   \n",
      "Iteration  300: Cost     0.12   \n",
      "Iteration  400: Cost     0.09   \n",
      "Iteration  500: Cost     0.08   \n",
      "Iteration  600: Cost     0.08   \n",
      "Iteration  700: Cost     0.08   \n",
      "Iteration  800: Cost     0.08   \n",
      "Iteration  900: Cost     0.08   \n"
     ]
    }
   ],
   "source": [
    "my_model = MyMultiVarLinReg()\n",
    "my_model.fit(X_norm, y_train, alpha = 5.0e-3, num_iters = 1000)"
   ]
  },
  {
   "cell_type": "code",
   "execution_count": 95,
   "metadata": {},
   "outputs": [
    {
     "data": {
      "text/plain": [
       "array([1.02989335, 1.28255613, 1.72894994, 1.58798347, 1.73656975,\n",
       "       1.25975759, 0.97401475, 1.65846671, 1.1441296 , 2.58802253])"
      ]
     },
     "execution_count": 95,
     "metadata": {},
     "output_type": "execute_result"
    }
   ],
   "source": [
    "my_model.prediction(X_norm[:10])"
   ]
  },
  {
   "cell_type": "code",
   "execution_count": 96,
   "metadata": {},
   "outputs": [
    {
     "name": "stdout",
     "output_type": "stream",
     "text": [
      "SGDRegressor()\n",
      "number of iterations completed: 19, number of weight updates: 1901.0\n"
     ]
    }
   ],
   "source": [
    "sgdr = SGDRegressor(max_iter=1000)\n",
    "sgdr.fit(X_norm, y_train)\n",
    "print(sgdr)\n",
    "print(f\"number of iterations completed: {sgdr.n_iter_}, number of weight updates: {sgdr.t_}\")"
   ]
  },
  {
   "cell_type": "markdown",
   "metadata": {},
   "source": [
    "View parameters     \n",
    "Note, the parameters are associated with the normalized input data. The fit parameters are very close to those found in the previous lab with this data."
   ]
  },
  {
   "cell_type": "code",
   "execution_count": 97,
   "metadata": {},
   "outputs": [
    {
     "name": "stdout",
     "output_type": "stream",
     "text": [
      "model parameters:                   w: [0.24970299 0.05475056], b:[1.35127951]\n",
      "model parameters from previous lab: w: [110.56 -21.27 -32.71 -37.97], b: 363.16\n"
     ]
    }
   ],
   "source": [
    "b_norm = sgdr.intercept_\n",
    "w_norm = sgdr.coef_\n",
    "print(f\"model parameters:                   w: {w_norm}, b:{b_norm}\")\n",
    "print( \"model parameters from previous lab: w: [110.56 -21.27 -32.71 -37.97], b: 363.16\")"
   ]
  },
  {
   "cell_type": "code",
   "execution_count": 99,
   "metadata": {},
   "outputs": [
    {
     "data": {
      "text/plain": [
       "1.370817523361212"
      ]
     },
     "execution_count": 99,
     "metadata": {},
     "output_type": "execute_result"
    }
   ],
   "source": [
    "my_model.b"
   ]
  },
  {
   "cell_type": "markdown",
   "metadata": {},
   "source": [
    "Make predictions\n",
    "Predict the targets of the training data. Use both the predict routine and compute using  𝑤\n",
    "  and  𝑏\n",
    " ."
   ]
  },
  {
   "cell_type": "code",
   "execution_count": 8,
   "metadata": {},
   "outputs": [
    {
     "name": "stdout",
     "output_type": "stream",
     "text": [
      "prediction using np.dot() and sgdr.predict match: True\n",
      "Prediction on training set:\n",
      "[1.01141861 1.26972262 1.70021685 1.5642713 ]\n",
      "Target values \n",
      "[1. 1. 2. 2.]\n"
     ]
    }
   ],
   "source": [
    "# make a prediction using sgdr.predict()\n",
    "y_pred_sgd = sgdr.predict(X_norm)\n",
    "# make a prediction using w,b. \n",
    "y_pred = np.dot(X_norm, w_norm) + b_norm  \n",
    "print(f\"prediction using np.dot() and sgdr.predict match: {(y_pred == y_pred_sgd).all()}\")\n",
    "\n",
    "print(f\"Prediction on training set:\\n{y_pred[:4]}\" )\n",
    "print(f\"Target values \\n{y_train[:4]}\")"
   ]
  },
  {
   "cell_type": "code",
   "execution_count": 12,
   "metadata": {},
   "outputs": [
    {
     "ename": "IndexError",
     "evalue": "index 2 is out of bounds for axis 1 with size 2",
     "output_type": "error",
     "traceback": [
      "\u001b[1;31m---------------------------------------------------------------------------\u001b[0m",
      "\u001b[1;31mIndexError\u001b[0m                                Traceback (most recent call last)",
      "Cell \u001b[1;32mIn[12], line 5\u001b[0m\n\u001b[0;32m      3\u001b[0m dlc \u001b[38;5;241m=\u001b[39m \u001b[38;5;28mdict\u001b[39m(dlblue \u001b[38;5;241m=\u001b[39m \u001b[38;5;124m'\u001b[39m\u001b[38;5;124m#0096ff\u001b[39m\u001b[38;5;124m'\u001b[39m, dlorange \u001b[38;5;241m=\u001b[39m \u001b[38;5;124m'\u001b[39m\u001b[38;5;124m#FF9300\u001b[39m\u001b[38;5;124m'\u001b[39m, dldarkred\u001b[38;5;241m=\u001b[39m\u001b[38;5;124m'\u001b[39m\u001b[38;5;124m#C00000\u001b[39m\u001b[38;5;124m'\u001b[39m, dlmagenta\u001b[38;5;241m=\u001b[39m\u001b[38;5;124m'\u001b[39m\u001b[38;5;124m#FF40FF\u001b[39m\u001b[38;5;124m'\u001b[39m, dlpurple\u001b[38;5;241m=\u001b[39m\u001b[38;5;124m'\u001b[39m\u001b[38;5;124m#7030A0\u001b[39m\u001b[38;5;124m'\u001b[39m)\n\u001b[0;32m      4\u001b[0m \u001b[38;5;28;01mfor\u001b[39;00m i \u001b[38;5;129;01min\u001b[39;00m \u001b[38;5;28mrange\u001b[39m(\u001b[38;5;28mlen\u001b[39m(ax)):\n\u001b[1;32m----> 5\u001b[0m     ax[i]\u001b[38;5;241m.\u001b[39mscatter(\u001b[43mX_train\u001b[49m\u001b[43m[\u001b[49m\u001b[43m:\u001b[49m\u001b[43m,\u001b[49m\u001b[43mi\u001b[49m\u001b[43m]\u001b[49m,y_train, label \u001b[38;5;241m=\u001b[39m \u001b[38;5;124m'\u001b[39m\u001b[38;5;124mtarget\u001b[39m\u001b[38;5;124m'\u001b[39m)\n\u001b[0;32m      6\u001b[0m     ax[i]\u001b[38;5;241m.\u001b[39mset_xlabel([\u001b[38;5;124m'\u001b[39m\u001b[38;5;124msize(sqft)\u001b[39m\u001b[38;5;124m'\u001b[39m,\u001b[38;5;124m'\u001b[39m\u001b[38;5;124mbedrooms\u001b[39m\u001b[38;5;124m'\u001b[39m,\u001b[38;5;124m'\u001b[39m\u001b[38;5;124mfloors\u001b[39m\u001b[38;5;124m'\u001b[39m,\u001b[38;5;124m'\u001b[39m\u001b[38;5;124mage\u001b[39m\u001b[38;5;124m'\u001b[39m][i])\n\u001b[0;32m      7\u001b[0m     ax[i]\u001b[38;5;241m.\u001b[39mscatter(X_train[:,i],y_pred,color\u001b[38;5;241m=\u001b[39mdlc[\u001b[38;5;124m\"\u001b[39m\u001b[38;5;124mdlorange\u001b[39m\u001b[38;5;124m\"\u001b[39m], label \u001b[38;5;241m=\u001b[39m \u001b[38;5;124m'\u001b[39m\u001b[38;5;124mpredict\u001b[39m\u001b[38;5;124m'\u001b[39m)\n",
      "\u001b[1;31mIndexError\u001b[0m: index 2 is out of bounds for axis 1 with size 2"
     ]
    },
    {
     "data": {
      "image/png": "[encoded data removed]",
      "text/plain": [
       "<Figure size 1200x300 with 4 Axes>"
      ]
     },
     "metadata": {},
     "output_type": "display_data"
    }
   ],
   "source": [
    "# plot predictions and targets vs original features    \n",
    "fig,ax=plt.subplots(1,4,figsize=(12,3),sharey=True)\n",
    "dlc = dict(dlblue = '#0096ff', dlorange = '#FF9300', dldarkred='#C00000', dlmagenta='#FF40FF', dlpurple='#7030A0')\n",
    "for i in range(len(ax)):\n",
    "    ax[i].scatter(X_train[:,i],y_train, label = 'target')\n",
    "    ax[i].set_xlabel(['size(sqft)','bedrooms','floors','age'][i])\n",
    "    ax[i].scatter(X_train[:,i],y_pred,color=dlc[\"dlorange\"], label = 'predict')\n",
    "ax[0].set_ylabel(\"Price\"); ax[0].legend();\n",
    "fig.suptitle(\"target versus prediction using z-score normalized model\")\n",
    "plt.show()"
   ]
  }
 ],
 "metadata": {
  "kernelspec": {
   "display_name": "mlenv",
   "language": "python",
   "name": "python3"
  },
  "language_info": {
   "codemirror_mode": {
    "name": "ipython",
    "version": 3
   },
   "file_extension": ".py",
   "mimetype": "text/x-python",
   "name": "python",
   "nbconvert_exporter": "python",
   "pygments_lexer": "ipython3",
   "version": "3.11.0"
  }
 },
 "nbformat": 4,
 "nbformat_minor": 2
}
